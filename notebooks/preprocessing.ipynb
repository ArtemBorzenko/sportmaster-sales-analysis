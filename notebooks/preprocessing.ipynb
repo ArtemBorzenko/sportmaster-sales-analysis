{
 "cells": [
  {
   "cell_type": "markdown",
   "id": "180952af",
   "metadata": {},
   "source": [
    "Подключение библиотек"
   ]
  },
  {
   "cell_type": "code",
   "execution_count": null,
   "id": "839c3d78",
   "metadata": {},
   "outputs": [],
   "source": [
    "import pandas as pd"
   ]
  },
  {
   "cell_type": "markdown",
   "id": "1cb5ac5d",
   "metadata": {},
   "source": [
    "# 0) Загрузка датасета "
   ]
  },
  {
   "cell_type": "code",
   "execution_count": null,
   "id": "b2db5f0b",
   "metadata": {},
   "outputs": [
    {
     "data": {
      "text/html": [
       "<div>\n",
       "<style scoped>\n",
       "    .dataframe tbody tr th:only-of-type {\n",
       "        vertical-align: middle;\n",
       "    }\n",
       "\n",
       "    .dataframe tbody tr th {\n",
       "        vertical-align: top;\n",
       "    }\n",
       "\n",
       "    .dataframe thead th {\n",
       "        text-align: right;\n",
       "    }\n",
       "</style>\n",
       "<table border=\"1\" class=\"dataframe\">\n",
       "  <thead>\n",
       "    <tr style=\"text-align: right;\">\n",
       "      <th></th>\n",
       "      <th>device_type</th>\n",
       "      <th>event_id</th>\n",
       "      <th>user_id</th>\n",
       "      <th>user_is_authorized</th>\n",
       "      <th>location_id</th>\n",
       "      <th>create_timestamp</th>\n",
       "      <th>product_id</th>\n",
       "      <th>product_is_pick_up</th>\n",
       "      <th>product_is_pick_point</th>\n",
       "      <th>product_is_delivery</th>\n",
       "      <th>product_is_now</th>\n",
       "      <th>product_price</th>\n",
       "      <th>ret_discount</th>\n",
       "      <th>product_category</th>\n",
       "      <th>product_gender</th>\n",
       "      <th>product_age</th>\n",
       "      <th>brand_lvl</th>\n",
       "      <th>add_to_cart_flag</th>\n",
       "      <th>create_order_flag</th>\n",
       "    </tr>\n",
       "  </thead>\n",
       "  <tbody>\n",
       "    <tr>\n",
       "      <th>0</th>\n",
       "      <td>desktop</td>\n",
       "      <td>cd4192b5-3709-46dd-a601-444dde3e762d</td>\n",
       "      <td>1</td>\n",
       "      <td>0</td>\n",
       "      <td>968</td>\n",
       "      <td>2024-06-02 10:46:21.989</td>\n",
       "      <td>68390</td>\n",
       "      <td>0.0</td>\n",
       "      <td>1.0</td>\n",
       "      <td>0.0</td>\n",
       "      <td>0.0</td>\n",
       "      <td>5280</td>\n",
       "      <td>950</td>\n",
       "      <td>инвентарь</td>\n",
       "      <td>унисекс</td>\n",
       "      <td>взрослые</td>\n",
       "      <td>1</td>\n",
       "      <td>0</td>\n",
       "      <td>0</td>\n",
       "    </tr>\n",
       "    <tr>\n",
       "      <th>1</th>\n",
       "      <td>desktop</td>\n",
       "      <td>dd8a2b1a-9268-4930-b414-cfbd9cda16d7</td>\n",
       "      <td>2</td>\n",
       "      <td>0</td>\n",
       "      <td>725</td>\n",
       "      <td>2024-06-08 20:03:52.614</td>\n",
       "      <td>46818</td>\n",
       "      <td>0.0</td>\n",
       "      <td>1.0</td>\n",
       "      <td>1.0</td>\n",
       "      <td>0.0</td>\n",
       "      <td>2599</td>\n",
       "      <td>1300</td>\n",
       "      <td>одежда</td>\n",
       "      <td>женский</td>\n",
       "      <td>взрослые</td>\n",
       "      <td>1</td>\n",
       "      <td>0</td>\n",
       "      <td>0</td>\n",
       "    </tr>\n",
       "    <tr>\n",
       "      <th>2</th>\n",
       "      <td>desktop</td>\n",
       "      <td>0416ecb1-e53a-474b-9cbc-ca3009dbaed6</td>\n",
       "      <td>3</td>\n",
       "      <td>0</td>\n",
       "      <td>968</td>\n",
       "      <td>2024-06-19 06:08:03.096</td>\n",
       "      <td>79467</td>\n",
       "      <td>0.0</td>\n",
       "      <td>1.0</td>\n",
       "      <td>1.0</td>\n",
       "      <td>0.0</td>\n",
       "      <td>5599</td>\n",
       "      <td>3471</td>\n",
       "      <td>одежда</td>\n",
       "      <td>мужской</td>\n",
       "      <td>дети</td>\n",
       "      <td>2</td>\n",
       "      <td>0</td>\n",
       "      <td>0</td>\n",
       "    </tr>\n",
       "  </tbody>\n",
       "</table>\n",
       "</div>"
      ],
      "text/plain": [
       "  device_type                              event_id  user_id  \\\n",
       "0     desktop  cd4192b5-3709-46dd-a601-444dde3e762d        1   \n",
       "1     desktop  dd8a2b1a-9268-4930-b414-cfbd9cda16d7        2   \n",
       "2     desktop  0416ecb1-e53a-474b-9cbc-ca3009dbaed6        3   \n",
       "\n",
       "   user_is_authorized  location_id         create_timestamp  product_id  \\\n",
       "0                   0          968  2024-06-02 10:46:21.989       68390   \n",
       "1                   0          725  2024-06-08 20:03:52.614       46818   \n",
       "2                   0          968  2024-06-19 06:08:03.096       79467   \n",
       "\n",
       "   product_is_pick_up  product_is_pick_point  product_is_delivery  \\\n",
       "0                 0.0                    1.0                  0.0   \n",
       "1                 0.0                    1.0                  1.0   \n",
       "2                 0.0                    1.0                  1.0   \n",
       "\n",
       "   product_is_now  product_price  ret_discount product_category  \\\n",
       "0             0.0           5280           950        инвентарь   \n",
       "1             0.0           2599          1300           одежда   \n",
       "2             0.0           5599          3471           одежда   \n",
       "\n",
       "  product_gender product_age  brand_lvl  add_to_cart_flag  create_order_flag  \n",
       "0        унисекс    взрослые          1                 0                  0  \n",
       "1        женский    взрослые          1                 0                  0  \n",
       "2        мужской        дети          2                 0                  0  "
      ]
     },
     "metadata": {},
     "output_type": "display_data"
    }
   ],
   "source": [
    "data = pd.read_csv(r\"sportmaster_full_dataset.csv\")\n",
    "\n",
    "data.head(3)"
   ]
  },
  {
   "cell_type": "code",
   "execution_count": null,
   "id": "41b15cc5",
   "metadata": {},
   "outputs": [
    {
     "name": "stdout",
     "output_type": "stream",
     "text": [
      "<class 'pandas.core.frame.DataFrame'>\n",
      "RangeIndex: 7000000 entries, 0 to 6999999\n",
      "Data columns (total 19 columns):\n",
      " #   Column                 Non-Null Count    Dtype  \n",
      "---  ------                 --------------    -----  \n",
      " 0   device_type            7000000 non-null  object \n",
      " 1   event_id               7000000 non-null  object \n",
      " 2   user_id                7000000 non-null  int64  \n",
      " 3   user_is_authorized     7000000 non-null  int64  \n",
      " 4   location_id            7000000 non-null  int64  \n",
      " 5   create_timestamp       7000000 non-null  object \n",
      " 6   product_id             7000000 non-null  int64  \n",
      " 7   product_is_pick_up     6999989 non-null  float64\n",
      " 8   product_is_pick_point  6999989 non-null  float64\n",
      " 9   product_is_delivery    6999989 non-null  float64\n",
      " 10  product_is_now         6999989 non-null  float64\n",
      " 11  product_price          7000000 non-null  int64  \n",
      " 12  ret_discount           7000000 non-null  int64  \n",
      " 13  product_category       7000000 non-null  object \n",
      " 14  product_gender         7000000 non-null  object \n",
      " 15  product_age            7000000 non-null  object \n",
      " 16  brand_lvl              7000000 non-null  int64  \n",
      " 17  add_to_cart_flag       7000000 non-null  int64  \n",
      " 18  create_order_flag      7000000 non-null  int64  \n",
      "dtypes: float64(4), int64(9), object(6)\n",
      "memory usage: 1014.7+ MB\n"
     ]
    }
   ],
   "source": [
    "data.info(memory_usage = True, show_counts = True)"
   ]
  },
  {
   "cell_type": "markdown",
   "id": "9d6fb473",
   "metadata": {},
   "source": [
    "Всего в датасете 19 столбцов и 7 000 000 строк. \n",
    "\n",
    "Столбцы определены несколькими типами данных: float64, int64, object. При этом столбец, описывающий дату и время совершения события, определен как object.\n",
    "\n",
    "В нескольких столбцах присутствуют пропущенные значения: product_is_pick_up, product_is_pick_point, product_is_delivery, product_is_now."
   ]
  },
  {
   "cell_type": "code",
   "execution_count": null,
   "id": "d7d12e70",
   "metadata": {},
   "outputs": [
    {
     "name": "stdout",
     "output_type": "stream",
     "text": [
      "Количество пропущенных значений:\n",
      "device_type               0\n",
      "event_id                  0\n",
      "user_id                   0\n",
      "user_is_authorized        0\n",
      "location_id               0\n",
      "create_timestamp          0\n",
      "product_id                0\n",
      "product_is_pick_up       11\n",
      "product_is_pick_point    11\n",
      "product_is_delivery      11\n",
      "product_is_now           11\n",
      "product_price             0\n",
      "ret_discount              0\n",
      "product_category          0\n",
      "product_gender            0\n",
      "product_age               0\n",
      "brand_lvl                 0\n",
      "add_to_cart_flag          0\n",
      "create_order_flag         0\n",
      "dtype: int64\n",
      "\n",
      "Процент пропущенных значений в наборе данных: 3.3082706766917295e-05%\n"
     ]
    }
   ],
   "source": [
    "print(f\"Количество пропущенных значений:\\n{data.isna().sum()}\\n\")\n",
    "print(f\"Процент пропущенных значений в наборе данных: {sum(data.isna().sum()) / (data.shape[1] * data.shape[0]) * 100}%\")"
   ]
  },
  {
   "cell_type": "markdown",
   "id": "324ea797",
   "metadata": {},
   "source": [
    "Количество пропущенных значений невероятно мало по сравнению с общим числом строк в наборе данных. \n",
    "\n",
    "В таком случае самый оптимальный способ отчистки датасета - удаление всех строк с пропущенными значениями."
   ]
  },
  {
   "cell_type": "code",
   "execution_count": null,
   "id": "b81b9327",
   "metadata": {},
   "outputs": [
    {
     "name": "stdout",
     "output_type": "stream",
     "text": [
      "<class 'pandas.core.frame.DataFrame'>\n",
      "RangeIndex: 6999989 entries, 0 to 6999988\n",
      "Data columns (total 19 columns):\n",
      " #   Column                 Non-Null Count    Dtype  \n",
      "---  ------                 --------------    -----  \n",
      " 0   device_type            6999989 non-null  object \n",
      " 1   event_id               6999989 non-null  object \n",
      " 2   user_id                6999989 non-null  int64  \n",
      " 3   user_is_authorized     6999989 non-null  int64  \n",
      " 4   location_id            6999989 non-null  int64  \n",
      " 5   create_timestamp       6999989 non-null  object \n",
      " 6   product_id             6999989 non-null  int64  \n",
      " 7   product_is_pick_up     6999989 non-null  float64\n",
      " 8   product_is_pick_point  6999989 non-null  float64\n",
      " 9   product_is_delivery    6999989 non-null  float64\n",
      " 10  product_is_now         6999989 non-null  float64\n",
      " 11  product_price          6999989 non-null  int64  \n",
      " 12  ret_discount           6999989 non-null  int64  \n",
      " 13  product_category       6999989 non-null  object \n",
      " 14  product_gender         6999989 non-null  object \n",
      " 15  product_age            6999989 non-null  object \n",
      " 16  brand_lvl              6999989 non-null  int64  \n",
      " 17  add_to_cart_flag       6999989 non-null  int64  \n",
      " 18  create_order_flag      6999989 non-null  int64  \n",
      "dtypes: float64(4), int64(9), object(6)\n",
      "memory usage: 1014.7+ MB\n"
     ]
    }
   ],
   "source": [
    "data = data.dropna(axis = 0)\n",
    "data = data.reset_index(drop = True)\n",
    "\n",
    "data.info(show_counts = True)"
   ]
  },
  {
   "cell_type": "markdown",
   "id": "45be8b5b",
   "metadata": {},
   "source": [
    "Сохранение обработанного датасета"
   ]
  },
  {
   "cell_type": "code",
   "execution_count": null,
   "id": "7b5a5866",
   "metadata": {},
   "outputs": [],
   "source": [
    "data.to_csv(r\"sm_lab_data_prepared.csv\", index = False)"
   ]
  }
 ],
 "metadata": {
  "language_info": {
   "name": "python"
  }
 },
 "nbformat": 4,
 "nbformat_minor": 5
}
